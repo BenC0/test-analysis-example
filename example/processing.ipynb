{
 "cells": [
  {
   "cell_type": "code",
   "execution_count": 50,
   "metadata": {},
   "outputs": [],
   "source": [
    "# imports\n",
    "import sys, ast\n",
    "# Need to do this so we can import the modules in `../..libs`\n",
    "sys.path.insert(0, '../')\n",
    "import os, tqdm, json, re\n",
    "import numpy as np\n",
    "import pandas as pd\n",
    "pd.set_option('display.max_columns', 500)\n",
    "\n",
    "# custom libraries\n",
    "import libs.analysis as analysis\n",
    "import libs.utils as utils\n",
    "import libs.get_data as get_data\n",
    "\n",
    "# misc visualisation if needed\n",
    "import matplotlib.pyplot as plt\n",
    "import seaborn as sns"
   ]
  },
  {
   "cell_type": "markdown",
   "metadata": {},
   "source": [
    "Declaring test/analysis start and end dates as both a string and an np.datetime64 type. "
   ]
  },
  {
   "cell_type": "code",
   "execution_count": 51,
   "metadata": {},
   "outputs": [],
   "source": [
    "data_dir = f\"./data/\"\n",
    "if not os.path.exists(data_dir):\n",
    "    os.makedirs(data_dir)"
   ]
  },
  {
   "cell_type": "code",
   "execution_count": 52,
   "metadata": {},
   "outputs": [],
   "source": [
    "START = \"2023-11-20\"\n",
    "END = \"2023-12-05\""
   ]
  },
  {
   "cell_type": "code",
   "execution_count": 53,
   "metadata": {},
   "outputs": [],
   "source": [
    "START_DATE = np.datetime64(START)\n",
    "END_DATE = np.datetime64(END)"
   ]
  },
  {
   "cell_type": "markdown",
   "metadata": {},
   "source": [
    "Get the data from BigQuery, could be adapted to other sources.\n",
    "This function is supposed to create or update a CSV file in the `./data` dir that matches the SQL file name.\n",
    "I think the update just appends and creates duplicate rows, safer to just delete the `./data` dir and call query again.\n",
    "By default, this gets all data from the specified start date until \"yesterday\". This can be tweaked directly in the `get_data.update_local_data` func"
   ]
  },
  {
   "cell_type": "code",
   "execution_count": 54,
   "metadata": {},
   "outputs": [],
   "source": [
    "# This is commented out because the query is dummy and will do nothing.\n",
    "# get_data.update_local_data(\"SQL-Query\", TEST_start_date=START)"
   ]
  },
  {
   "cell_type": "markdown",
   "metadata": {},
   "source": [
    "Open the data file and apply any basic processing/filtering/transforming/dark-magic"
   ]
  },
  {
   "cell_type": "markdown",
   "metadata": {},
   "source": [
    "`utils.status(DataFrame)` will just print the dataframe shape and `DataFrame.head()`, saves some typing"
   ]
  },
  {
   "cell_type": "code",
   "execution_count": 55,
   "metadata": {},
   "outputs": [
    {
     "name": "stdout",
     "output_type": "stream",
     "text": [
      "Start Date: 2023-11-20 00:00:00\n",
      "End Date: 2023-12-05 00:00:00\n",
      "Shape: (12, 6)\n"
     ]
    },
    {
     "data": {
      "text/html": [
       "<div>\n",
       "<style scoped>\n",
       "    .dataframe tbody tr th:only-of-type {\n",
       "        vertical-align: middle;\n",
       "    }\n",
       "\n",
       "    .dataframe tbody tr th {\n",
       "        vertical-align: top;\n",
       "    }\n",
       "\n",
       "    .dataframe thead th {\n",
       "        text-align: right;\n",
       "    }\n",
       "</style>\n",
       "<table border=\"1\" class=\"dataframe\">\n",
       "  <thead>\n",
       "    <tr style=\"text-align: right;\">\n",
       "      <th></th>\n",
       "      <th>event_date</th>\n",
       "      <th>optimisation_id</th>\n",
       "      <th>optimisation_variant</th>\n",
       "      <th>device_category</th>\n",
       "      <th>impressions</th>\n",
       "      <th>purchases</th>\n",
       "    </tr>\n",
       "  </thead>\n",
       "  <tbody>\n",
       "    <tr>\n",
       "      <th>0</th>\n",
       "      <td>2023-12-01</td>\n",
       "      <td>test01</td>\n",
       "      <td>Control</td>\n",
       "      <td>desktop</td>\n",
       "      <td>105</td>\n",
       "      <td>28</td>\n",
       "    </tr>\n",
       "    <tr>\n",
       "      <th>1</th>\n",
       "      <td>2023-11-29</td>\n",
       "      <td>test01</td>\n",
       "      <td>Variation 1</td>\n",
       "      <td>tablet</td>\n",
       "      <td>715</td>\n",
       "      <td>10</td>\n",
       "    </tr>\n",
       "    <tr>\n",
       "      <th>2</th>\n",
       "      <td>2023-12-02</td>\n",
       "      <td>test01</td>\n",
       "      <td>Control</td>\n",
       "      <td>mobile</td>\n",
       "      <td>952</td>\n",
       "      <td>17</td>\n",
       "    </tr>\n",
       "    <tr>\n",
       "      <th>3</th>\n",
       "      <td>2023-11-20</td>\n",
       "      <td>test01</td>\n",
       "      <td>Variation 1</td>\n",
       "      <td>desktop</td>\n",
       "      <td>996</td>\n",
       "      <td>49</td>\n",
       "    </tr>\n",
       "    <tr>\n",
       "      <th>4</th>\n",
       "      <td>2023-11-28</td>\n",
       "      <td>test01</td>\n",
       "      <td>Control</td>\n",
       "      <td>tablet</td>\n",
       "      <td>754</td>\n",
       "      <td>2</td>\n",
       "    </tr>\n",
       "  </tbody>\n",
       "</table>\n",
       "</div>"
      ],
      "text/plain": [
       "  event_date optimisation_id optimisation_variant device_category  \\\n",
       "0 2023-12-01          test01              Control         desktop   \n",
       "1 2023-11-29          test01          Variation 1          tablet   \n",
       "2 2023-12-02          test01              Control          mobile   \n",
       "3 2023-11-20          test01          Variation 1         desktop   \n",
       "4 2023-11-28          test01              Control          tablet   \n",
       "\n",
       "   impressions  purchases  \n",
       "0          105         28  \n",
       "1          715         10  \n",
       "2          952         17  \n",
       "3          996         49  \n",
       "4          754          2  "
      ]
     },
     "execution_count": 55,
     "metadata": {},
     "output_type": "execute_result"
    }
   ],
   "source": [
    "# For example purposes, this is commented out and replaced with dummy data.\n",
    "# raw_events_data = utils.load_bq_df(\"./data/SQL-Query.csv\")\n",
    "raw_events_data = pd.DataFrame({\n",
    "    \"event_date\": np.random.choice(pd.date_range(START_DATE, END_DATE), 12),\n",
    "    \"optimisation_id\": [\"test01\"] * 12,\n",
    "    \"optimisation_variant\": [\"Control\", \"Variation 1\"] * 6,\n",
    "    \"device_category\": [\"desktop\", \"tablet\", \"mobile\"] * 4,\n",
    "    \"impressions\": np.random.randint(100, 1000, 12),\n",
    "    \"purchases\": np.random.randint(0, 50, 12)\n",
    "})\n",
    "\n",
    "print(f\"Start Date: {raw_events_data.event_date.min()}\")\n",
    "print(f\"End Date: {raw_events_data.event_date.max()}\")\n",
    "utils.status(raw_events_data)"
   ]
  },
  {
   "cell_type": "markdown",
   "metadata": {},
   "source": [
    "You can also create a device report that'll provide an overview of the device distribution. This can be used to dynamically create a slide in the report."
   ]
  },
  {
   "cell_type": "code",
   "execution_count": 56,
   "metadata": {},
   "outputs": [
    {
     "data": {
      "text/html": [
       "<div>\n",
       "<style scoped>\n",
       "    .dataframe tbody tr th:only-of-type {\n",
       "        vertical-align: middle;\n",
       "    }\n",
       "\n",
       "    .dataframe tbody tr th {\n",
       "        vertical-align: top;\n",
       "    }\n",
       "\n",
       "    .dataframe thead th {\n",
       "        text-align: right;\n",
       "    }\n",
       "</style>\n",
       "<table border=\"1\" class=\"dataframe\">\n",
       "  <thead>\n",
       "    <tr style=\"text-align: right;\">\n",
       "      <th></th>\n",
       "      <th>device_category</th>\n",
       "      <th>impressions</th>\n",
       "      <th>% of total</th>\n",
       "      <th>start_date</th>\n",
       "      <th>end_date</th>\n",
       "    </tr>\n",
       "  </thead>\n",
       "  <tbody>\n",
       "    <tr>\n",
       "      <th>0</th>\n",
       "      <td>desktop</td>\n",
       "      <td>2256</td>\n",
       "      <td>27.421903</td>\n",
       "      <td>2023-11-20</td>\n",
       "      <td>2023-12-05</td>\n",
       "    </tr>\n",
       "    <tr>\n",
       "      <th>1</th>\n",
       "      <td>mobile</td>\n",
       "      <td>2869</td>\n",
       "      <td>34.872979</td>\n",
       "      <td>2023-11-20</td>\n",
       "      <td>2023-12-05</td>\n",
       "    </tr>\n",
       "    <tr>\n",
       "      <th>2</th>\n",
       "      <td>tablet</td>\n",
       "      <td>3102</td>\n",
       "      <td>37.705117</td>\n",
       "      <td>2023-11-20</td>\n",
       "      <td>2023-12-05</td>\n",
       "    </tr>\n",
       "  </tbody>\n",
       "</table>\n",
       "</div>"
      ],
      "text/plain": [
       "  device_category  impressions  % of total  start_date    end_date\n",
       "0         desktop         2256   27.421903  2023-11-20  2023-12-05\n",
       "1          mobile         2869   34.872979  2023-11-20  2023-12-05\n",
       "2          tablet         3102   37.705117  2023-11-20  2023-12-05"
      ]
     },
     "execution_count": 56,
     "metadata": {},
     "output_type": "execute_result"
    }
   ],
   "source": [
    "device_report = utils.create_device_report(raw_events_data, start=START, end=END)\n",
    "device_report.to_csv(\"./data/device_report.csv\")\n",
    "device_report"
   ]
  },
  {
   "cell_type": "markdown",
   "metadata": {},
   "source": [
    "Grouping and aggregations"
   ]
  },
  {
   "cell_type": "code",
   "execution_count": 57,
   "metadata": {},
   "outputs": [
    {
     "name": "stdout",
     "output_type": "stream",
     "text": [
      "Shape: (6, 5)\n"
     ]
    },
    {
     "data": {
      "text/html": [
       "<div>\n",
       "<style scoped>\n",
       "    .dataframe tbody tr th:only-of-type {\n",
       "        vertical-align: middle;\n",
       "    }\n",
       "\n",
       "    .dataframe tbody tr th {\n",
       "        vertical-align: top;\n",
       "    }\n",
       "\n",
       "    .dataframe thead th {\n",
       "        text-align: right;\n",
       "    }\n",
       "</style>\n",
       "<table border=\"1\" class=\"dataframe\">\n",
       "  <thead>\n",
       "    <tr style=\"text-align: right;\">\n",
       "      <th></th>\n",
       "      <th>optimisation_id</th>\n",
       "      <th>optimisation_variant</th>\n",
       "      <th>device_category</th>\n",
       "      <th>impressions</th>\n",
       "      <th>purchases</th>\n",
       "    </tr>\n",
       "  </thead>\n",
       "  <tbody>\n",
       "    <tr>\n",
       "      <th>0</th>\n",
       "      <td>test01</td>\n",
       "      <td>Control</td>\n",
       "      <td>desktop</td>\n",
       "      <td>384</td>\n",
       "      <td>76</td>\n",
       "    </tr>\n",
       "    <tr>\n",
       "      <th>1</th>\n",
       "      <td>test01</td>\n",
       "      <td>Control</td>\n",
       "      <td>mobile</td>\n",
       "      <td>1143</td>\n",
       "      <td>54</td>\n",
       "    </tr>\n",
       "    <tr>\n",
       "      <th>2</th>\n",
       "      <td>test01</td>\n",
       "      <td>Control</td>\n",
       "      <td>tablet</td>\n",
       "      <td>1541</td>\n",
       "      <td>9</td>\n",
       "    </tr>\n",
       "    <tr>\n",
       "      <th>3</th>\n",
       "      <td>test01</td>\n",
       "      <td>Variation 1</td>\n",
       "      <td>desktop</td>\n",
       "      <td>1872</td>\n",
       "      <td>52</td>\n",
       "    </tr>\n",
       "    <tr>\n",
       "      <th>4</th>\n",
       "      <td>test01</td>\n",
       "      <td>Variation 1</td>\n",
       "      <td>mobile</td>\n",
       "      <td>1726</td>\n",
       "      <td>58</td>\n",
       "    </tr>\n",
       "    <tr>\n",
       "      <th>5</th>\n",
       "      <td>test01</td>\n",
       "      <td>Variation 1</td>\n",
       "      <td>tablet</td>\n",
       "      <td>1561</td>\n",
       "      <td>12</td>\n",
       "    </tr>\n",
       "  </tbody>\n",
       "</table>\n",
       "</div>"
      ],
      "text/plain": [
       "  optimisation_id optimisation_variant device_category  impressions  purchases\n",
       "0          test01              Control         desktop          384         76\n",
       "1          test01              Control          mobile         1143         54\n",
       "2          test01              Control          tablet         1541          9\n",
       "3          test01          Variation 1         desktop         1872         52\n",
       "4          test01          Variation 1          mobile         1726         58\n",
       "5          test01          Variation 1          tablet         1561         12"
      ]
     },
     "execution_count": 57,
     "metadata": {},
     "output_type": "execute_result"
    }
   ],
   "source": [
    "data = raw_events_data.groupby([\"optimisation_id\", \"optimisation_variant\", \"device_category\"]).sum(numeric_only=True).reset_index()\n",
    "utils.status(data, n=6)"
   ]
  },
  {
   "cell_type": "markdown",
   "metadata": {},
   "source": [
    "Split users out into segments for analysis"
   ]
  },
  {
   "cell_type": "code",
   "execution_count": 58,
   "metadata": {},
   "outputs": [],
   "source": [
    "segment_output_dir = \"./data/segmented\"\n",
    "if not os.path.exists(segment_output_dir):\n",
    "    os.makedirs(segment_output_dir)"
   ]
  },
  {
   "cell_type": "code",
   "execution_count": 59,
   "metadata": {},
   "outputs": [],
   "source": [
    "core_dims = [\"optimisation_id\", \"device_category\"]"
   ]
  },
  {
   "cell_type": "code",
   "execution_count": 60,
   "metadata": {},
   "outputs": [
    {
     "name": "stdout",
     "output_type": "stream",
     "text": [
      "Shape: (2, 4)\n"
     ]
    },
    {
     "data": {
      "text/html": [
       "<div>\n",
       "<style scoped>\n",
       "    .dataframe tbody tr th:only-of-type {\n",
       "        vertical-align: middle;\n",
       "    }\n",
       "\n",
       "    .dataframe tbody tr th {\n",
       "        vertical-align: top;\n",
       "    }\n",
       "\n",
       "    .dataframe thead th {\n",
       "        text-align: right;\n",
       "    }\n",
       "</style>\n",
       "<table border=\"1\" class=\"dataframe\">\n",
       "  <thead>\n",
       "    <tr style=\"text-align: right;\">\n",
       "      <th></th>\n",
       "      <th>segment</th>\n",
       "      <th>optimisation_variant</th>\n",
       "      <th>impressions</th>\n",
       "      <th>purchases</th>\n",
       "    </tr>\n",
       "  </thead>\n",
       "  <tbody>\n",
       "    <tr>\n",
       "      <th>0</th>\n",
       "      <td>All Users</td>\n",
       "      <td>Control</td>\n",
       "      <td>3068</td>\n",
       "      <td>139</td>\n",
       "    </tr>\n",
       "    <tr>\n",
       "      <th>1</th>\n",
       "      <td>All Users</td>\n",
       "      <td>Variation 1</td>\n",
       "      <td>5159</td>\n",
       "      <td>122</td>\n",
       "    </tr>\n",
       "  </tbody>\n",
       "</table>\n",
       "</div>"
      ],
      "text/plain": [
       "     segment optimisation_variant  impressions  purchases\n",
       "0  All Users              Control         3068        139\n",
       "1  All Users          Variation 1         5159        122"
      ]
     },
     "execution_count": 60,
     "metadata": {},
     "output_type": "execute_result"
    }
   ],
   "source": [
    "all_users = data.drop(core_dims, axis=1)\n",
    "all_users[\"segment\"] = \"All Users\"\n",
    "all_users = all_users.groupby([\"segment\", \"optimisation_variant\"], as_index=False).agg(\"sum\")\n",
    "all_users.to_csv(f\"{segment_output_dir}/all_users.csv\")\n",
    "utils.status(all_users)"
   ]
  },
  {
   "cell_type": "code",
   "execution_count": 61,
   "metadata": {},
   "outputs": [
    {
     "name": "stdout",
     "output_type": "stream",
     "text": [
      "Shape: (2, 4)\n"
     ]
    },
    {
     "data": {
      "text/html": [
       "<div>\n",
       "<style scoped>\n",
       "    .dataframe tbody tr th:only-of-type {\n",
       "        vertical-align: middle;\n",
       "    }\n",
       "\n",
       "    .dataframe tbody tr th {\n",
       "        vertical-align: top;\n",
       "    }\n",
       "\n",
       "    .dataframe thead th {\n",
       "        text-align: right;\n",
       "    }\n",
       "</style>\n",
       "<table border=\"1\" class=\"dataframe\">\n",
       "  <thead>\n",
       "    <tr style=\"text-align: right;\">\n",
       "      <th></th>\n",
       "      <th>segment</th>\n",
       "      <th>optimisation_variant</th>\n",
       "      <th>impressions</th>\n",
       "      <th>purchases</th>\n",
       "    </tr>\n",
       "  </thead>\n",
       "  <tbody>\n",
       "    <tr>\n",
       "      <th>0</th>\n",
       "      <td>Desktop &amp; Tablet Users</td>\n",
       "      <td>Control</td>\n",
       "      <td>1925</td>\n",
       "      <td>85</td>\n",
       "    </tr>\n",
       "    <tr>\n",
       "      <th>1</th>\n",
       "      <td>Desktop &amp; Tablet Users</td>\n",
       "      <td>Variation 1</td>\n",
       "      <td>3433</td>\n",
       "      <td>64</td>\n",
       "    </tr>\n",
       "  </tbody>\n",
       "</table>\n",
       "</div>"
      ],
      "text/plain": [
       "                  segment optimisation_variant  impressions  purchases\n",
       "0  Desktop & Tablet Users              Control         1925         85\n",
       "1  Desktop & Tablet Users          Variation 1         3433         64"
      ]
     },
     "execution_count": 61,
     "metadata": {},
     "output_type": "execute_result"
    }
   ],
   "source": [
    "desktop_tablet_users = data[data.device_category != \"mobile\"].drop(core_dims, axis=1)\n",
    "desktop_tablet_users[\"segment\"] = \"Desktop & Tablet Users\"\n",
    "desktop_tablet_users = desktop_tablet_users.groupby([\"segment\", \"optimisation_variant\"], as_index=False).agg(\"sum\")\n",
    "desktop_tablet_users.to_csv(f\"{segment_output_dir}/desktop_tablet_users.csv\")\n",
    "utils.status(desktop_tablet_users)"
   ]
  },
  {
   "cell_type": "code",
   "execution_count": 62,
   "metadata": {},
   "outputs": [
    {
     "name": "stdout",
     "output_type": "stream",
     "text": [
      "Shape: (2, 4)\n"
     ]
    },
    {
     "data": {
      "text/html": [
       "<div>\n",
       "<style scoped>\n",
       "    .dataframe tbody tr th:only-of-type {\n",
       "        vertical-align: middle;\n",
       "    }\n",
       "\n",
       "    .dataframe tbody tr th {\n",
       "        vertical-align: top;\n",
       "    }\n",
       "\n",
       "    .dataframe thead th {\n",
       "        text-align: right;\n",
       "    }\n",
       "</style>\n",
       "<table border=\"1\" class=\"dataframe\">\n",
       "  <thead>\n",
       "    <tr style=\"text-align: right;\">\n",
       "      <th></th>\n",
       "      <th>segment</th>\n",
       "      <th>optimisation_variant</th>\n",
       "      <th>impressions</th>\n",
       "      <th>purchases</th>\n",
       "    </tr>\n",
       "  </thead>\n",
       "  <tbody>\n",
       "    <tr>\n",
       "      <th>0</th>\n",
       "      <td>Mobile Users</td>\n",
       "      <td>Control</td>\n",
       "      <td>1143</td>\n",
       "      <td>54</td>\n",
       "    </tr>\n",
       "    <tr>\n",
       "      <th>1</th>\n",
       "      <td>Mobile Users</td>\n",
       "      <td>Variation 1</td>\n",
       "      <td>1726</td>\n",
       "      <td>58</td>\n",
       "    </tr>\n",
       "  </tbody>\n",
       "</table>\n",
       "</div>"
      ],
      "text/plain": [
       "        segment optimisation_variant  impressions  purchases\n",
       "0  Mobile Users              Control         1143         54\n",
       "1  Mobile Users          Variation 1         1726         58"
      ]
     },
     "execution_count": 62,
     "metadata": {},
     "output_type": "execute_result"
    }
   ],
   "source": [
    "mobile_users = data[data.device_category == \"mobile\"].drop(core_dims, axis=1)\n",
    "mobile_users[\"segment\"] = \"Mobile Users\"\n",
    "mobile_users = mobile_users.groupby([\"segment\", \"optimisation_variant\"], as_index=False).agg(\"sum\")\n",
    "mobile_users.to_csv(f\"{segment_output_dir}/mobile_users.csv\")\n",
    "utils.status(mobile_users)"
   ]
  },
  {
   "cell_type": "markdown",
   "metadata": {},
   "source": [
    "Now, we move over to `./analysis.ipynb`"
   ]
  }
 ],
 "metadata": {
  "kernelspec": {
   "display_name": "base",
   "language": "python",
   "name": "python3"
  },
  "language_info": {
   "codemirror_mode": {
    "name": "ipython",
    "version": 3
   },
   "file_extension": ".py",
   "mimetype": "text/x-python",
   "name": "python",
   "nbconvert_exporter": "python",
   "pygments_lexer": "ipython3",
   "version": "3.10.9"
  },
  "orig_nbformat": 4
 },
 "nbformat": 4,
 "nbformat_minor": 2
}
