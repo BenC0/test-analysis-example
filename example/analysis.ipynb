{
 "cells": [
  {
   "cell_type": "markdown",
   "metadata": {},
   "source": [
    "## **Look at `./processing.ipynb` first**"
   ]
  },
  {
   "cell_type": "code",
   "execution_count": 1,
   "metadata": {},
   "outputs": [],
   "source": [
    "# imports\n",
    "import sys\n",
    "# Need to do this so we can import the modules in `../libs`\n",
    "sys.path.insert(0, '../')\n",
    "import os, tqdm, json, re\n",
    "import numpy as np\n",
    "import pandas as pd\n",
    "pd.set_option('display.max_columns', 500)\n",
    "\n",
    "# custom libraries\n",
    "import libs.analysis as analysis\n",
    "import libs.utils as utils\n",
    "import libs.export as export\n",
    "import libs.generate as generate\n",
    "\n",
    "import matplotlib.pyplot as plt\n",
    "import seaborn as sns\n",
    "from itertools import chain\n",
    "from matplotlib.offsetbox import OffsetImage, AnnotationBbox"
   ]
  },
  {
   "cell_type": "markdown",
   "metadata": {},
   "source": [
    "Load the segments created in `./processing.ipynb`"
   ]
  },
  {
   "cell_type": "code",
   "execution_count": 2,
   "metadata": {},
   "outputs": [
    {
     "name": "stdout",
     "output_type": "stream",
     "text": [
      "\u001b[92mLoaded: all_users\n",
      "\u001b[92mLoaded: desktop_tablet_users\n",
      "\u001b[92mLoaded: mobile_users\n"
     ]
    }
   ],
   "source": [
    "sources = [\n",
    "    \"all_users\",\n",
    "    \"desktop_tablet_users\",\n",
    "    \"mobile_users\",\n",
    "]\n",
    "data = {}\n",
    "for source in sources:\n",
    "    data[source] = utils.load_bq_df(f\"./data/segmented/{source}.csv\", False)\n",
    "\n",
    "for d in data:\n",
    "    utils.print_success(f\"Loaded: {d}\")"
   ]
  },
  {
   "cell_type": "code",
   "execution_count": 3,
   "metadata": {},
   "outputs": [
    {
     "name": "stdout",
     "output_type": "stream",
     "text": [
      "Shape: (2, 4)\n"
     ]
    },
    {
     "data": {
      "text/html": [
       "<div>\n",
       "<style scoped>\n",
       "    .dataframe tbody tr th:only-of-type {\n",
       "        vertical-align: middle;\n",
       "    }\n",
       "\n",
       "    .dataframe tbody tr th {\n",
       "        vertical-align: top;\n",
       "    }\n",
       "\n",
       "    .dataframe thead th {\n",
       "        text-align: right;\n",
       "    }\n",
       "</style>\n",
       "<table border=\"1\" class=\"dataframe\">\n",
       "  <thead>\n",
       "    <tr style=\"text-align: right;\">\n",
       "      <th></th>\n",
       "      <th>segment</th>\n",
       "      <th>optimisation_variant</th>\n",
       "      <th>impressions</th>\n",
       "      <th>purchases</th>\n",
       "    </tr>\n",
       "  </thead>\n",
       "  <tbody>\n",
       "    <tr>\n",
       "      <th>0</th>\n",
       "      <td>All Users</td>\n",
       "      <td>Control</td>\n",
       "      <td>3068</td>\n",
       "      <td>139</td>\n",
       "    </tr>\n",
       "    <tr>\n",
       "      <th>1</th>\n",
       "      <td>All Users</td>\n",
       "      <td>Variation 1</td>\n",
       "      <td>5159</td>\n",
       "      <td>122</td>\n",
       "    </tr>\n",
       "  </tbody>\n",
       "</table>\n",
       "</div>"
      ],
      "text/plain": [
       "     segment optimisation_variant  impressions  purchases\n",
       "0  All Users              Control         3068        139\n",
       "1  All Users          Variation 1         5159        122"
      ]
     },
     "execution_count": 3,
     "metadata": {},
     "output_type": "execute_result"
    }
   ],
   "source": [
    "utils.status(data[\"all_users\"])"
   ]
  },
  {
   "cell_type": "markdown",
   "metadata": {},
   "source": [
    "Segment DataFrames are stored in a dictionary for easier processing"
   ]
  },
  {
   "cell_type": "code",
   "execution_count": 4,
   "metadata": {},
   "outputs": [
    {
     "data": {
      "text/plain": [
       "dict_keys(['all_users', 'desktop_tablet_users', 'mobile_users'])"
      ]
     },
     "execution_count": 4,
     "metadata": {},
     "output_type": "execute_result"
    }
   ],
   "source": [
    "data.keys()"
   ]
  },
  {
   "cell_type": "markdown",
   "metadata": {},
   "source": [
    "This BEAST will take your preprocessed dataset and apply test specific processing to it. It'll calculate Bayesian Significance, Relative impact and format the strings "
   ]
  },
  {
   "cell_type": "code",
   "execution_count": 5,
   "metadata": {},
   "outputs": [],
   "source": [
    "def generate_calculated_dataset(data, segment = \"Missing Segment Name\", fields_to_drop = [], METRICS = [], NAME_MAP = []):\n",
    "    calculated_data = None\n",
    "    if len(METRICS) > 0:\n",
    "        processed_data = data.copy()\n",
    "        # Sort variant names alphabetically and use the first one as the control name\n",
    "        # in default use cases this will revert to control as C is before V in the alphabet,\n",
    "        # however when  control doesn't exist, variation_1 will be chosen, assuming all variants\n",
    "        # have a consistent naming convention like variation_{x}, Variation {x}, etc. \n",
    "        control_name = processed_data.optimisation_variant.sort_values().values[0]\n",
    "\n",
    "        # Re-generate control data\n",
    "        processed_data.drop([col for col in processed_data.columns if \"control\" in col], axis=1, inplace=True)\n",
    "        control_data = processed_data[processed_data.optimisation_variant == control_name].copy()\n",
    "        control_data.drop(\"optimisation_variant\", axis=1, inplace=True)\n",
    "        metrics = [metric[\"name\"] for metric in METRICS]\n",
    "        metrics_renamed = [f\"control_{metric}\" for metric in metrics]\n",
    "        control_data.columns = [\"segment\"] + metrics_renamed\n",
    "        processed_data = pd.merge(left=processed_data, right=control_data, how=\"left\", on=[\"segment\"])\n",
    "        # return processed_data\n",
    "        # Generate the calculated data\n",
    "        calculated_data = analysis.summarise_test(None, processed_data, metrics=METRICS, control_name = control_name)\n",
    "\n",
    "        # Format the variant name\n",
    "        calculated_data.optimisation_variant = calculated_data.optimisation_variant.str.replace(\"_\", \" \", regex=True)\n",
    "        calculated_data.optimisation_variant = calculated_data.optimisation_variant.str.capitalize()\n",
    "        calculated_data.rename(columns={\"optimisation_variant\": \"Variant\"}, inplace=True)\n",
    "\n",
    "        # Drop it like it's hot\n",
    "        if len(fields_to_drop) > 0:\n",
    "            for field in fields_to_drop:\n",
    "                if field in calculated_data.columns:\n",
    "                    calculated_data.drop(field, axis=1, inplace=True)\n",
    "            \n",
    "        # Add the segment name\n",
    "        calculated_data[\"segment\"] = segment\n",
    "        calculated_data[\"segment\"] = calculated_data[\"segment\"].replace(\"_\", \" \", regex=True)\n",
    "        calculated_data[\"segment\"] = calculated_data[\"segment\"].str.capitalize()\n",
    "\n",
    "        # Set and reset index to shift the ordering around for readibility\n",
    "        calculated_data.set_index([\"segment\", \"Variant\"], inplace=True)\n",
    "        calculated_data.reset_index(inplace=True)\n",
    "\n",
    "        if len(NAME_MAP) > 0:\n",
    "            calculated_data.rename(columns=NAME_MAP, inplace=True)\n",
    "\n",
    "    return calculated_data"
   ]
  },
  {
   "cell_type": "markdown",
   "metadata": {},
   "source": [
    "Spit out the columns for reference"
   ]
  },
  {
   "cell_type": "code",
   "execution_count": 6,
   "metadata": {},
   "outputs": [
    {
     "data": {
      "text/plain": [
       "Index(['segment', 'optimisation_variant', 'impressions', 'purchases'], dtype='object')"
      ]
     },
     "execution_count": 6,
     "metadata": {},
     "output_type": "execute_result"
    }
   ],
   "source": [
    "data[\"all_users\"].columns"
   ]
  },
  {
   "cell_type": "markdown",
   "metadata": {},
   "source": [
    "This is where you specify the metrics in the dataset."
   ]
  },
  {
   "cell_type": "markdown",
   "metadata": {},
   "source": [
    "```\n",
    "analysis.build_metric_object(\n",
    "    order = \"Basically just an ID, not really used tbh.\"\n",
    "    name = \"The column name in `data`, use above cell as reference\"\n",
    "    display_name = \"The name you want it to be called, can be anything\"\n",
    "    previous_step = \"Can be None if no previous step. Will use this to calculate progression/conversion rate, uplift and Bayesian significance.\"\n",
    "),\n",
    "```"
   ]
  },
  {
   "cell_type": "code",
   "execution_count": 7,
   "metadata": {},
   "outputs": [],
   "source": [
    "METRICS = [\n",
    "    analysis.build_metric_object(0, \"impressions\", \"Impressions\", None),\n",
    "    analysis.build_metric_object(1, \"purchases\", \"Purchases\", \"impressions\"),\n",
    "]"
   ]
  },
  {
   "cell_type": "markdown",
   "metadata": {},
   "source": [
    "Sometimes you don't want significance on a column for some reason, this is where you add a string for each column name in the output that you want to remove"
   ]
  },
  {
   "cell_type": "code",
   "execution_count": 8,
   "metadata": {},
   "outputs": [],
   "source": [
    "fields_to_drop = [ ]"
   ]
  },
  {
   "cell_type": "code",
   "execution_count": 9,
   "metadata": {},
   "outputs": [
    {
     "data": {
      "text/html": [
       "<div>\n",
       "<style scoped>\n",
       "    .dataframe tbody tr th:only-of-type {\n",
       "        vertical-align: middle;\n",
       "    }\n",
       "\n",
       "    .dataframe tbody tr th {\n",
       "        vertical-align: top;\n",
       "    }\n",
       "\n",
       "    .dataframe thead th {\n",
       "        text-align: right;\n",
       "    }\n",
       "</style>\n",
       "<table border=\"1\" class=\"dataframe\">\n",
       "  <thead>\n",
       "    <tr style=\"text-align: right;\">\n",
       "      <th></th>\n",
       "      <th>segment</th>\n",
       "      <th>optimisation_variant</th>\n",
       "      <th>impressions</th>\n",
       "      <th>purchases</th>\n",
       "    </tr>\n",
       "  </thead>\n",
       "  <tbody>\n",
       "    <tr>\n",
       "      <th>0</th>\n",
       "      <td>All Users</td>\n",
       "      <td>Control</td>\n",
       "      <td>3068</td>\n",
       "      <td>139</td>\n",
       "    </tr>\n",
       "    <tr>\n",
       "      <th>1</th>\n",
       "      <td>All Users</td>\n",
       "      <td>Variation 1</td>\n",
       "      <td>5159</td>\n",
       "      <td>122</td>\n",
       "    </tr>\n",
       "  </tbody>\n",
       "</table>\n",
       "</div>"
      ],
      "text/plain": [
       "     segment optimisation_variant  impressions  purchases\n",
       "0  All Users              Control         3068        139\n",
       "1  All Users          Variation 1         5159        122"
      ]
     },
     "execution_count": 9,
     "metadata": {},
     "output_type": "execute_result"
    }
   ],
   "source": [
    "data[\"all_users\"]"
   ]
  },
  {
   "cell_type": "markdown",
   "metadata": {},
   "source": [
    "Sometimes you want to rename the generated columns in the output, this is where you map them."
   ]
  },
  {
   "cell_type": "code",
   "execution_count": 10,
   "metadata": {},
   "outputs": [],
   "source": [
    "NAME_MAP = {\n",
    "    \"segment\": \"Segment\",\n",
    "}"
   ]
  },
  {
   "cell_type": "markdown",
   "metadata": {},
   "source": [
    "Magic time!"
   ]
  },
  {
   "cell_type": "code",
   "execution_count": 11,
   "metadata": {},
   "outputs": [
    {
     "name": "stdout",
     "output_type": "stream",
     "text": [
      "Calculating data for all_users\n"
     ]
    },
    {
     "name": "stdout",
     "output_type": "stream",
     "text": [
      "Calculating data for desktop_tablet_users\n",
      "Calculating data for mobile_users\n"
     ]
    }
   ],
   "source": [
    "processed_data = {}\n",
    "for source in data:\n",
    "    print(f\"Calculating data for {source}\")\n",
    "    processed_data[source] = generate_calculated_dataset(data = data[source], segment=source, fields_to_drop=fields_to_drop, METRICS=METRICS, NAME_MAP = NAME_MAP)\n",
    "    processed_data[source].fillna(0, inplace=True)"
   ]
  },
  {
   "cell_type": "markdown",
   "metadata": {},
   "source": [
    "Look how *formatted* it is"
   ]
  },
  {
   "cell_type": "code",
   "execution_count": 12,
   "metadata": {},
   "outputs": [
    {
     "name": "stdout",
     "output_type": "stream",
     "text": [
      "Shape: (2, 7)\n"
     ]
    },
    {
     "data": {
      "text/html": [
       "<div>\n",
       "<style scoped>\n",
       "    .dataframe tbody tr th:only-of-type {\n",
       "        vertical-align: middle;\n",
       "    }\n",
       "\n",
       "    .dataframe tbody tr th {\n",
       "        vertical-align: top;\n",
       "    }\n",
       "\n",
       "    .dataframe thead th {\n",
       "        text-align: right;\n",
       "    }\n",
       "</style>\n",
       "<table border=\"1\" class=\"dataframe\">\n",
       "  <thead>\n",
       "    <tr style=\"text-align: right;\">\n",
       "      <th></th>\n",
       "      <th>Segment</th>\n",
       "      <th>Variant</th>\n",
       "      <th>Impressions</th>\n",
       "      <th>Purchases</th>\n",
       "      <th>Purchases Significance</th>\n",
       "      <th>Purchases Impact</th>\n",
       "      <th>Purchases Rate</th>\n",
       "    </tr>\n",
       "  </thead>\n",
       "  <tbody>\n",
       "    <tr>\n",
       "      <th>0</th>\n",
       "      <td>All users</td>\n",
       "      <td>Control</td>\n",
       "      <td>3068</td>\n",
       "      <td>139</td>\n",
       "      <td>50.000000</td>\n",
       "      <td>0.000000</td>\n",
       "      <td>4.530639</td>\n",
       "    </tr>\n",
       "    <tr>\n",
       "      <th>1</th>\n",
       "      <td>All users</td>\n",
       "      <td>Variation 1</td>\n",
       "      <td>5159</td>\n",
       "      <td>122</td>\n",
       "      <td>0.000005</td>\n",
       "      <td>-47.804284</td>\n",
       "      <td>2.364799</td>\n",
       "    </tr>\n",
       "  </tbody>\n",
       "</table>\n",
       "</div>"
      ],
      "text/plain": [
       "     Segment      Variant  Impressions  Purchases  Purchases Significance  \\\n",
       "0  All users      Control         3068        139               50.000000   \n",
       "1  All users  Variation 1         5159        122                0.000005   \n",
       "\n",
       "   Purchases Impact  Purchases Rate  \n",
       "0          0.000000        4.530639  \n",
       "1        -47.804284        2.364799  "
      ]
     },
     "execution_count": 12,
     "metadata": {},
     "output_type": "execute_result"
    }
   ],
   "source": [
    "utils.status(processed_data[\"all_users\"])"
   ]
  },
  {
   "cell_type": "markdown",
   "metadata": {},
   "source": [
    "Now, we gotta transform it from a `DataFrame` into a dict/JSON so the generate library can spit it out into a `.PPTX` "
   ]
  },
  {
   "cell_type": "code",
   "execution_count": 13,
   "metadata": {},
   "outputs": [],
   "source": [
    "# This transforms data into a format for an individual slide.\n",
    "def generate_slide_data(data, config):\n",
    "    slide_data = data[config[\"cols\"]].copy()\n",
    "    segment = slide_data.Segment.values[0]\n",
    "    print(f\"Generated slide data for {segment}\")\n",
    "    slide_data = slide_data.drop(\"Segment\", axis=1)\n",
    "    slide_data = export.format_series(slide_data, format_map = None, rename_map = config[\"rename_map\"], transpose=False)\n",
    "    slide_data_formatted = export.format_series(slide_data, format_map = config[\"format_map\"], transpose=True)\n",
    "    return {\n",
    "        \"segment\": segment,\n",
    "        \"raw\": slide_data,\n",
    "        \"formatted\": slide_data_formatted,\n",
    "    }"
   ]
  },
  {
   "cell_type": "code",
   "execution_count": 14,
   "metadata": {},
   "outputs": [],
   "source": [
    "# This generates all the visualisations and tables for each section\n",
    "# Note: Each metric is an individual section, containing a unique slide for each segment.\n",
    "# i.e. Purchases section contains individual slides for All users, Desktop Users, Mobile users.\n",
    "def generate_section_data_and_visualisations(data_dict, config):\n",
    "    slide_data = {}\n",
    "    notFirst = False\n",
    "    for source in data_dict:\n",
    "        if source not in config[\"ignore\"]:\n",
    "            # Transform data\n",
    "            data = data_dict[source]\n",
    "            slide_data[source] = generate_slide_data(data=data, config=config)\n",
    "            slide_data[source][\"visualisation\"] = f\"{source}-\" + config[\"visualisation_metric\"]\n",
    "\n",
    "            # Generate visualisation\n",
    "            visualisation_extra_title = \"- \" + slide_data[source][\"segment\"]\n",
    "            visualisation_metric = config[\"visualisation_metric\"]\n",
    "            visualisation_max_y = config[\"ylim\"]\n",
    "            if config[\"ylim\"] == \"auto\":\n",
    "                y_vals = slide_data[source][\"raw\"][visualisation_metric]\n",
    "                visualisation_max_y = y_vals.max()\n",
    "                visualisation_max_y = visualisation_max_y * 1.2\n",
    "            export.visualise(slide_data[source][\"raw\"], visualisation_metric, slide_data[source][\"visualisation\"], ylim=visualisation_max_y, extra_title=visualisation_extra_title, hide=notFirst, fmt=config[\"format\"])\n",
    "            notFirst = True\n",
    "    return slide_data\n"
   ]
  },
  {
   "cell_type": "markdown",
   "metadata": {},
   "source": [
    "I got tired of typing descriptions for each segment in the final deck so type it here and it'll get generated alongside the rest of the data"
   ]
  },
  {
   "cell_type": "code",
   "execution_count": 15,
   "metadata": {},
   "outputs": [],
   "source": [
    "DIMENSIONS_REFERENCE = {\n",
    "    \"all_users\": \"All users who saw the test at least once.\",\n",
    "    \"desktop_tablet_users\": \"Desktop and Tablet users who saw the test at least once\",\n",
    "    \"mobile_users\": \"Mobile users who saw the test at least once\",\n",
    "}"
   ]
  },
  {
   "cell_type": "code",
   "execution_count": 16,
   "metadata": {},
   "outputs": [],
   "source": [
    "# Generates all the slides for a section (metric)\n",
    "def generate_section_slides(DATA, CONFIG, DIMENSIONS):\n",
    "    slides = [\n",
    "        export.generate_title_slide(title=CONFIG[\"visualisation_metric\"], subtitle=CONFIG[\"metric_type\"]),\n",
    "        export.generate_notes_slide(title=CONFIG[\"visualisation_metric\"], content=CONFIG[\"notes\"]),\n",
    "    ]\n",
    "    for source in DATA:\n",
    "        metric_slide = export.generate_metric_slide(\n",
    "            title=CONFIG[\"visualisation_metric\"],\n",
    "            segment = DATA[source][\"segment\"],\n",
    "            data=DATA[source][\"formatted\"],\n",
    "            image_path=\"./visualisations/\"+DATA[source][\"visualisation\"]+\".png\",\n",
    "            footer=f\"Segment definition: \" + DIMENSIONS[source],\n",
    "        )\n",
    "        slides.append(metric_slide)\n",
    "    return slides"
   ]
  },
  {
   "cell_type": "code",
   "execution_count": 17,
   "metadata": {},
   "outputs": [],
   "source": [
    "# Divider slide to divide sections that need dividing into individual sections... divided\n",
    "def generate_divider_slide(title=\"\"):\n",
    "    slides = [\n",
    "        export.generate_divider_slide(title)\n",
    "    ]\n",
    "    return slides"
   ]
  },
  {
   "cell_type": "code",
   "execution_count": 18,
   "metadata": {},
   "outputs": [],
   "source": [
    "# Does what is says on the tin\n",
    "def generate_report_info_slide(report):\n",
    "    # fmt = '%A %d %B %Y'\n",
    "    fmt = '%d %B %Y'\n",
    "    start = report.start_date.values[0]\n",
    "    end = report.end_date.values[0]\n",
    "    start = pd.to_datetime(start).strftime(fmt)\n",
    "    end = pd.to_datetime(end).strftime(fmt)\n",
    "    \n",
    "    print(start, \"-\", end)\n",
    "    content = {\n",
    "        \"title\": \"Device Breakdown\",\n",
    "        \"points\": report.points.tolist(),\n",
    "        \"start\": start,\n",
    "        \"end\": end,\n",
    "    }\n",
    "    \n",
    "    return [\n",
    "        export.generate_report_info_slide(title=\"Notes\", content=content),\n",
    "    ]"
   ]
  },
  {
   "cell_type": "markdown",
   "metadata": {},
   "source": [
    "This is where we declare our metric and generate the associated section slides "
   ]
  },
  {
   "cell_type": "code",
   "execution_count": 19,
   "metadata": {},
   "outputs": [
    {
     "name": "stdout",
     "output_type": "stream",
     "text": [
      "Generated slide data for All users\n",
      "Generated slide data for Desktop tablet users\n",
      "Generated slide data for Mobile users\n"
     ]
    },
    {
     "data": {
      "image/png": "[encoded data removed]",
      "text/plain": [
       "<Figure size 800x800 with 1 Axes>"
      ]
     },
     "metadata": {},
     "output_type": "display_data"
    }
   ],
   "source": [
    "PURCHASES_CONFIG = {\n",
    "    # Can specify or let it auto generate\n",
    "    \"ylim\": \"auto\",\n",
    "    # This format is used in the visualisation\n",
    "    \"format\": \"%.2f%%\",\n",
    "    # Can be anything\n",
    "    \"metric_type\": \"Primary Metric\",\n",
    "    # The KPI you want in the visualisation\n",
    "    \"visualisation_metric\": \"Purchases Rate\",\n",
    "    # All the columns you need, Segment is auto removed\n",
    "    \"cols\": [\"Segment\", \"Variant\", \"Impressions\", \"Purchases\", \"Purchases Rate\", \"Purchases Impact\", \"Purchases Significance\"],\n",
    "    # Apply formatting to specific columns for the table. Most use cases are covered in the `export` library\n",
    "    \"format_map\": {\n",
    "        \"Impressions\": export.format_int,\n",
    "        \"Purchases\": export.format_int,\n",
    "        \"Purchases Rate\": export.format_perc,\n",
    "        \"Impact\": export.format_perc,\n",
    "        \"Chance of being best\": export.format_perc,\n",
    "    },\n",
    "    # Rename columns for the table\n",
    "    \"rename_map\": {\n",
    "        \"Purchases Impact\": \"Impact\",\n",
    "        \"Purchases Significance\": \"Chance of being best\"\n",
    "    },\n",
    "    # Ignore certain segments, just specify a string of the name inthe dictionary \n",
    "    \"ignore\": [  ],\n",
    "    # Any notes for the first slide of the section, generally used to explain the section but can be replaced with analysis or whatever.\n",
    "    \"notes\": [\n",
    "        'This metric represents the number of purchase events that occur after an Impression.',\n",
    "        '',\n",
    "        'This metric is the total number of \"purchase\" events, which are tracked each time a user completes a transaction.',\n",
    "        '',\n",
    "        'An increase in Purchase Rate is a positive result.',\n",
    "    ]\n",
    "}\n",
    "# Take the above and make it into a JSON/dict for the generate library\n",
    "PURCHASES_DATA = generate_section_data_and_visualisations(processed_data, PURCHASES_CONFIG)\n",
    "PURCHASES = generate_section_slides(PURCHASES_DATA, PURCHASES_CONFIG, DIMENSIONS_REFERENCE)"
   ]
  },
  {
   "cell_type": "code",
   "execution_count": 20,
   "metadata": {},
   "outputs": [
    {
     "name": "stdout",
     "output_type": "stream",
     "text": [
      "Shape: (2, 7)\n"
     ]
    },
    {
     "data": {
      "text/html": [
       "<div>\n",
       "<style scoped>\n",
       "    .dataframe tbody tr th:only-of-type {\n",
       "        vertical-align: middle;\n",
       "    }\n",
       "\n",
       "    .dataframe tbody tr th {\n",
       "        vertical-align: top;\n",
       "    }\n",
       "\n",
       "    .dataframe thead th {\n",
       "        text-align: right;\n",
       "    }\n",
       "</style>\n",
       "<table border=\"1\" class=\"dataframe\">\n",
       "  <thead>\n",
       "    <tr style=\"text-align: right;\">\n",
       "      <th></th>\n",
       "      <th>Segment</th>\n",
       "      <th>Variant</th>\n",
       "      <th>Impressions</th>\n",
       "      <th>Purchases</th>\n",
       "      <th>Purchases Significance</th>\n",
       "      <th>Purchases Impact</th>\n",
       "      <th>Purchases Rate</th>\n",
       "    </tr>\n",
       "  </thead>\n",
       "  <tbody>\n",
       "    <tr>\n",
       "      <th>0</th>\n",
       "      <td>All users</td>\n",
       "      <td>Control</td>\n",
       "      <td>3068</td>\n",
       "      <td>139</td>\n",
       "      <td>50.000000</td>\n",
       "      <td>0.000000</td>\n",
       "      <td>4.530639</td>\n",
       "    </tr>\n",
       "    <tr>\n",
       "      <th>1</th>\n",
       "      <td>All users</td>\n",
       "      <td>Variation 1</td>\n",
       "      <td>5159</td>\n",
       "      <td>122</td>\n",
       "      <td>0.000005</td>\n",
       "      <td>-47.804284</td>\n",
       "      <td>2.364799</td>\n",
       "    </tr>\n",
       "  </tbody>\n",
       "</table>\n",
       "</div>"
      ],
      "text/plain": [
       "     Segment      Variant  Impressions  Purchases  Purchases Significance  \\\n",
       "0  All users      Control         3068        139               50.000000   \n",
       "1  All users  Variation 1         5159        122                0.000005   \n",
       "\n",
       "   Purchases Impact  Purchases Rate  \n",
       "0          0.000000        4.530639  \n",
       "1        -47.804284        2.364799  "
      ]
     },
     "execution_count": 20,
     "metadata": {},
     "output_type": "execute_result"
    }
   ],
   "source": [
    "utils.status(processed_data[\"all_users\"])"
   ]
  },
  {
   "cell_type": "markdown",
   "metadata": {},
   "source": [
    "Reformat the device report as bullet points"
   ]
  },
  {
   "cell_type": "code",
   "execution_count": 21,
   "metadata": {},
   "outputs": [
    {
     "data": {
      "text/html": [
       "<div>\n",
       "<style scoped>\n",
       "    .dataframe tbody tr th:only-of-type {\n",
       "        vertical-align: middle;\n",
       "    }\n",
       "\n",
       "    .dataframe tbody tr th {\n",
       "        vertical-align: top;\n",
       "    }\n",
       "\n",
       "    .dataframe thead th {\n",
       "        text-align: right;\n",
       "    }\n",
       "</style>\n",
       "<table border=\"1\" class=\"dataframe\">\n",
       "  <thead>\n",
       "    <tr style=\"text-align: right;\">\n",
       "      <th></th>\n",
       "      <th>device_category</th>\n",
       "      <th>impressions</th>\n",
       "      <th>% of total</th>\n",
       "      <th>start_date</th>\n",
       "      <th>end_date</th>\n",
       "      <th>points</th>\n",
       "    </tr>\n",
       "  </thead>\n",
       "  <tbody>\n",
       "    <tr>\n",
       "      <th>0</th>\n",
       "      <td>desktop</td>\n",
       "      <td>2256</td>\n",
       "      <td>27.421903</td>\n",
       "      <td>2023-11-20</td>\n",
       "      <td>2023-12-05</td>\n",
       "      <td>Desktop - 27.42% (2,256 Impressions)</td>\n",
       "    </tr>\n",
       "    <tr>\n",
       "      <th>1</th>\n",
       "      <td>mobile</td>\n",
       "      <td>2869</td>\n",
       "      <td>34.872979</td>\n",
       "      <td>2023-11-20</td>\n",
       "      <td>2023-12-05</td>\n",
       "      <td>Mobile - 34.87% (2,869 Impressions)</td>\n",
       "    </tr>\n",
       "    <tr>\n",
       "      <th>2</th>\n",
       "      <td>tablet</td>\n",
       "      <td>3102</td>\n",
       "      <td>37.705117</td>\n",
       "      <td>2023-11-20</td>\n",
       "      <td>2023-12-05</td>\n",
       "      <td>Tablet - 37.71% (3,102 Impressions)</td>\n",
       "    </tr>\n",
       "  </tbody>\n",
       "</table>\n",
       "</div>"
      ],
      "text/plain": [
       "  device_category  impressions  % of total  start_date    end_date  \\\n",
       "0         desktop         2256   27.421903  2023-11-20  2023-12-05   \n",
       "1          mobile         2869   34.872979  2023-11-20  2023-12-05   \n",
       "2          tablet         3102   37.705117  2023-11-20  2023-12-05   \n",
       "\n",
       "                                 points  \n",
       "0  Desktop - 27.42% (2,256 Impressions)  \n",
       "1   Mobile - 34.87% (2,869 Impressions)  \n",
       "2   Tablet - 37.71% (3,102 Impressions)  "
      ]
     },
     "execution_count": 21,
     "metadata": {},
     "output_type": "execute_result"
    }
   ],
   "source": [
    "device_report = utils.load_bq_df(\"./data/device_report.csv\", False)\n",
    "device_report[\"points\"] = device_report[\"device_category\"].str.capitalize()\n",
    "device_report.points += \" - \"\n",
    "device_report.points += device_report[\"% of total\"].apply(lambda x: f\"{x:.2f}%\")\n",
    "device_report.points += device_report[\"impressions\"].apply(lambda x: f\" ({x:,.0f} Impressions)\")\n",
    "device_report"
   ]
  },
  {
   "cell_type": "markdown",
   "metadata": {},
   "source": [
    "Turn it into a slide"
   ]
  },
  {
   "cell_type": "code",
   "execution_count": 22,
   "metadata": {},
   "outputs": [
    {
     "name": "stdout",
     "output_type": "stream",
     "text": [
      "20 November 2023 - 05 December 2023\n"
     ]
    },
    {
     "data": {
      "text/plain": [
       "[{'name': 'Notes',\n",
       "  'type': 'Report Info Slide',\n",
       "  'layout': 'Long Form Messaging 1',\n",
       "  'title': 'Notes',\n",
       "  'content': {'title': 'Device Breakdown',\n",
       "   'points': ['Desktop - 27.42% (2,256 Impressions)',\n",
       "    'Mobile - 34.87% (2,869 Impressions)',\n",
       "    'Tablet - 37.71% (3,102 Impressions)'],\n",
       "   'start': '20 November 2023',\n",
       "   'end': '05 December 2023'}}]"
      ]
     },
     "execution_count": 22,
     "metadata": {},
     "output_type": "execute_result"
    }
   ],
   "source": [
    "REPORT_INFO = generate_report_info_slide(device_report)\n",
    "REPORT_INFO"
   ]
  },
  {
   "cell_type": "markdown",
   "metadata": {},
   "source": [
    "Bring it all together into an array and generate that mofo"
   ]
  },
  {
   "cell_type": "code",
   "execution_count": 23,
   "metadata": {},
   "outputs": [
    {
     "name": "stdout",
     "output_type": "stream",
     "text": [
      "Generating Divider Slide 1 slide for Report Information\n",
      "Generating Long Form Messaging 1 slide for Notes\n",
      "Generating Divider Slide 1 slide for Primary Metrics\n",
      "Generating Title Slide 2 slide for Purchases Rate\n",
      "Generating Long Form Messaging 1 slide for Purchases Rate\n",
      "Generating Chart and Data slide for Purchases Rate\n",
      "Generating Chart and Data slide for Purchases Rate\n",
      "Generating Chart and Data slide for Purchases Rate\n",
      "\u001b[92mReport Generated Successfully\n"
     ]
    }
   ],
   "source": [
    "SECTIONS = [\n",
    "    generate_divider_slide(\"Report Information\"),\n",
    "    REPORT_INFO,\n",
    "    generate_divider_slide(\"Primary Metrics\"),\n",
    "    PURCHASES,\n",
    "]\n",
    "SLIDES = list(chain.from_iterable(SECTIONS))\n",
    "export_config = export.output_metric_to_config(slides=SLIDES, id=\"TEST001\")\n",
    "generate.generate_report(export_config)"
   ]
  }
 ],
 "metadata": {
  "kernelspec": {
   "display_name": "base",
   "language": "python",
   "name": "python3"
  },
  "language_info": {
   "codemirror_mode": {
    "name": "ipython",
    "version": 3
   },
   "file_extension": ".py",
   "mimetype": "text/x-python",
   "name": "python",
   "nbconvert_exporter": "python",
   "pygments_lexer": "ipython3",
   "version": "3.10.9"
  },
  "orig_nbformat": 4
 },
 "nbformat": 4,
 "nbformat_minor": 2
}
